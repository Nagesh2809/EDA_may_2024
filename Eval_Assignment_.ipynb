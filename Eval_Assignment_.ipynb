{
 "cells": [
  {
   "cell_type": "code",
   "execution_count": 9,
   "id": "ea7cc7cc-4119-4e72-a7bc-489a73bff876",
   "metadata": {},
   "outputs": [
    {
     "name": "stdin",
     "output_type": "stream",
     "text": [
      "Enter the number 1: 10\n",
      "Enter the number 2: 20\n",
      "Enter the number 3: 30\n"
     ]
    },
    {
     "name": "stdout",
     "output_type": "stream",
     "text": [
      "average of three number is 20.0\n"
     ]
    }
   ],
   "source": [
    "# write  a program ask the user enter three numbers calculate average\n",
    "# write  a program ask the user enter 2 numbers calculate substraction,addition\n",
    "# write  a program ask the user enter radius calculate area of cirle\n",
    "# write  a program ask the user enter bill amount\n",
    "# ask the user  how much tip you want to pay in percentage\n",
    "# calculate total bill\n",
    "# write  a program ask the user  to pay the bill amount in dollars\n",
    "# write  a program ask the user  print the bill amount in rupees\n",
    "# write  a program ask the user  to enter base and height calculate area of triangle\n",
    "# write  a program ask the user enter the length and breadth calculate the area of rectangle\n",
    "\n",
    "a=eval(input(\"Enter the number 1:\"))\n",
    "b=eval(input(\"Enter the number 2:\"))\n",
    "c=eval(input(\"Enter the number 3:\"))\n",
    "n=3 # how many numbers\n",
    "average=(a+b+c)/n\n",
    "print(f\"average of three number is {average}\")"
   ]
  },
  {
   "cell_type": "markdown",
   "id": "e9a5567e-19c6-4280-b058-28186d92923c",
   "metadata": {},
   "source": [
    "**write  a program ask the user enter 2 numbers calculate substraction,addition**"
   ]
  },
  {
   "cell_type": "code",
   "execution_count": 7,
   "id": "c5edad83-a26a-4e73-b2d1-83a318593b5a",
   "metadata": {},
   "outputs": [
    {
     "name": "stdin",
     "output_type": "stream",
     "text": [
      "Enter the number 1: 30\n",
      "Enter the number 2: 20\n"
     ]
    },
    {
     "name": "stdout",
     "output_type": "stream",
     "text": [
      "substraction of 30and 20 is 10\n",
      "addition of 30 and 20 is  50\n"
     ]
    }
   ],
   "source": [
    "d=eval(input(\"Enter the number 1:\"))\n",
    "e=eval(input(\"Enter the number 2:\"))\n",
    "add=d+e\n",
    "sub=d-e\n",
    "print(f\"substraction of {d }and {e} is {sub}\")\n",
    "print(f\"addition of {d} and {e} is  {add}\")"
   ]
  },
  {
   "cell_type": "markdown",
   "id": "3081ff6c-c65a-4a32-bd75-9328997a1f65",
   "metadata": {},
   "source": [
    "**write  a program ask the user enter radius calculate area of cirle**"
   ]
  },
  {
   "cell_type": "code",
   "execution_count": 10,
   "id": "8f7e1bce-1fbe-4db0-b235-67a9888382e4",
   "metadata": {},
   "outputs": [
    {
     "name": "stdin",
     "output_type": "stream",
     "text": [
      "Enter the radius of circle: 10\n"
     ]
    },
    {
     "name": "stdout",
     "output_type": "stream",
     "text": [
      "area of circle is 314.0\n"
     ]
    }
   ],
   "source": [
    "pi=3.14\n",
    "d=eval(input(\"Enter the radius of circle:\"))\n",
    "area=3.14*d*d\n",
    "\n",
    "print(f\"area of circle is {area}\")"
   ]
  },
  {
   "cell_type": "markdown",
   "id": "e1355430-1ef1-4a4c-9f9f-f47428921e4e",
   "metadata": {},
   "source": [
    "- write  a program ask the user enter bill amount\n",
    "- ask the user  how much tip you want to pay in percentage\n",
    "- calculate total bill\n",
    "- write  a program ask the user  to pay the bill amount in dollars\n",
    "- write  a program ask the user  print the bill amount in rupees"
   ]
  },
  {
   "cell_type": "code",
   "execution_count": 13,
   "id": "3f5b3cd9-5ccf-4714-864b-5575e462e3c9",
   "metadata": {},
   "outputs": [
    {
     "name": "stdin",
     "output_type": "stream",
     "text": [
      "Enter the bill amount: 1000\n",
      "Enter the tip  you want to pay: 100\n"
     ]
    },
    {
     "name": "stdout",
     "output_type": "stream",
     "text": [
      "user paid 10.0 percentage tip of bill amount\n",
      "the bill amount is 1000 and tipp is 100 then total bill amount is : 1100\n",
      "pay the bill in dollar\n",
      "Total bill amount in dollar is : 88000\n"
     ]
    }
   ],
   "source": [
    "Bill_amount=eval(input(\"Enter the bill amount:\"))\n",
    "tip=eval(input(\"Enter the tip  you want to pay:\"))\n",
    "tipp_per=(100*tip)/Bill_amount\n",
    "print(f\"user paid {tipp_per} percentage tip of bill amount\")\n",
    "toatal_Bill_amount_in_rupees=Bill_amount + tip\n",
    "print(f'the bill amount is {Bill_amount} and tipp is {tip} then total bill amount is : {toatal_Bill_amount_in_rupees}')\n",
    "print(\"pay the bill in dollar\")\n",
    "dollar=80\n",
    "dollar_amount=dollar*toatal_Bill_amount_in_rupees\n",
    "print(f\"Total bill amount in dollar is : {dollar_amount}\")"
   ]
  },
  {
   "cell_type": "markdown",
   "id": "f3c859e7-86b8-4b5d-92ab-04a782c6eabd",
   "metadata": {},
   "source": [
    "**write  a program ask the user  to enter base and height calculate area of triangle**"
   ]
  },
  {
   "cell_type": "code",
   "execution_count": 14,
   "id": "f7f720a6-5663-45e3-ada1-448f28972599",
   "metadata": {},
   "outputs": [
    {
     "name": "stdin",
     "output_type": "stream",
     "text": [
      "Enter the base of triangle 10\n",
      "Enter the height of triangle 20\n"
     ]
    },
    {
     "name": "stdout",
     "output_type": "stream",
     "text": [
      "the area of the triangle  with base 10 and height is 20 then area  of is 100.0\n"
     ]
    }
   ],
   "source": [
    "base=eval(input(\"Enter the base of triangle\"))\n",
    "height=eval(input(\"Enter the height of triangle\"))\n",
    "area=1/2*base*height\n",
    "print(f'the area of the triangle  with base {base} and height is {height} then area  of is {area}')"
   ]
  },
  {
   "cell_type": "markdown",
   "id": "d63c721d-f9b6-48e4-9708-3f228d6d9bb6",
   "metadata": {},
   "source": [
    "**write  a program ask the user enter the length and breadth calculate the area of rectangle**"
   ]
  },
  {
   "cell_type": "code",
   "execution_count": 15,
   "id": "f191e4f0-c372-487a-82ac-4d9360c9b4a1",
   "metadata": {},
   "outputs": [
    {
     "name": "stdin",
     "output_type": "stream",
     "text": [
      "Enter the length of rectangle :  10\n",
      "Enter the width of rectangle :  20\n"
     ]
    },
    {
     "name": "stdout",
     "output_type": "stream",
     "text": [
      "the area of the triangle  with length 10 and width is 20 then area  of  rectangle is 200\n"
     ]
    }
   ],
   "source": [
    "length=eval(input(\"Enter the length of rectangle : \"))\n",
    "width=eval(input(\"Enter the width of rectangle : \"))\n",
    "area=length*width\n",
    "print(f'the area of the triangle  with length {length} and width is {width} then area  of  rectangle is {area}')"
   ]
  },
  {
   "cell_type": "code",
   "execution_count": null,
   "id": "c12d4829-9006-405e-8171-217eb5e21ce6",
   "metadata": {},
   "outputs": [],
   "source": []
  }
 ],
 "metadata": {
  "kernelspec": {
   "display_name": "Python 3 (ipykernel)",
   "language": "python",
   "name": "python3"
  },
  "language_info": {
   "codemirror_mode": {
    "name": "ipython",
    "version": 3
   },
   "file_extension": ".py",
   "mimetype": "text/x-python",
   "name": "python",
   "nbconvert_exporter": "python",
   "pygments_lexer": "ipython3",
   "version": "3.11.7"
  }
 },
 "nbformat": 4,
 "nbformat_minor": 5
}
